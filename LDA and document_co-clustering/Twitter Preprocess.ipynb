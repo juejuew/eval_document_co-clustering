{
 "cells": [
  {
   "cell_type": "code",
   "execution_count": 1,
   "metadata": {},
   "outputs": [],
   "source": [
    "## Packages need for data pre-process\n",
    "import re\n",
    "import numpy as np\n",
    "import pandas as pd\n",
    "from pprint import pprint\n",
    "\n",
    "# Gensim\n",
    "import gensim\n",
    "import gensim.corpora as corpora\n",
    "from gensim.utils import simple_preprocess\n",
    "from gensim.models import CoherenceModel\n",
    "\n",
    "# spacy for lemmatization\n",
    "import spacy\n",
    "\n",
    "from scipy import sparse\n",
    "from collections import Counter\n",
    "\n",
    "import nltk\n",
    "from nltk.corpus import stopwords\n",
    "from nltk.stem import PorterStemmer\n",
    "from nltk.tokenize import sent_tokenize, word_tokenize\n",
    "\n",
    "import itertools\n",
    "\n",
    "import warnings\n",
    "warnings.filterwarnings(\"ignore\",category=DeprecationWarning)"
   ]
  },
  {
   "cell_type": "code",
   "execution_count": 16,
   "metadata": {},
   "outputs": [],
   "source": [
    "# Import Dataset\n",
    "df = pd.read_csv('Twitter_mani.csv')\n",
    "del df['Unnamed: 0']"
   ]
  },
  {
   "cell_type": "code",
   "execution_count": 17,
   "metadata": {},
   "outputs": [],
   "source": [
    "# Convert to lowercase and convert to list\n",
    "data = df.text.str.lower().values.tolist()"
   ]
  },
  {
   "cell_type": "code",
   "execution_count": 18,
   "metadata": {},
   "outputs": [],
   "source": [
    "# Define basic pre-process function \n",
    "def preProcessingFcn(tweet,removeAt=True, removeHashtags=True, removeNewline=True, removeURL=True, \n",
    "    removeNumbers=True):\n",
    "    \n",
    "    tweet = re.sub(r\"\\\\n\", \" \", tweet)\n",
    "    tweet = re.sub(r\"&amp\", \" \", tweet)\n",
    "    \n",
    "    if removeAt == True:\n",
    "        tweet = re.sub(\"@\", \"\", tweet)\n",
    "    if removeHashtags == True:\n",
    "        tweet = re.sub(\"#\", \"\", tweet)\n",
    "    if removeNewline == True:\n",
    "        tweet = re.sub(\"\\s+\", \" \", tweet)\n",
    "    if removeURL == True:\n",
    "        tweet = re.sub(r\"http\\S+\", \"\", tweet)\n",
    "    if removeNumbers == True:\n",
    "        tweet=  ''.join(i for i in tweet if not i.isdigit())\n",
    "        \n",
    "    return tweet"
   ]
  },
  {
   "cell_type": "code",
   "execution_count": 19,
   "metadata": {},
   "outputs": [],
   "source": [
    "data = [preProcessingFcn(tweet) for tweet in data]"
   ]
  },
  {
   "cell_type": "code",
   "execution_count": 20,
   "metadata": {},
   "outputs": [],
   "source": [
    "# simple_preprocess() tokenies the text\n",
    "def sent_to_words(sentences):\n",
    "    for sentence in sentences:\n",
    "        yield(gensim.utils.simple_preprocess(str(sentence), deacc=True))  # deacc=True removes punctuations\n",
    "\n",
    "data_words = list(sent_to_words(data))\n",
    "\n",
    "# Remove Stop Words\n",
    "stop_words = stopwords.words('english')\n",
    "\n",
    "data_words_unigrams = [[word for word in simple_preprocess(str(doc)) if word not in stop_words] for doc in data_words]"
   ]
  },
  {
   "cell_type": "markdown",
   "metadata": {},
   "source": [
    "# If Stemming"
   ]
  },
  {
   "cell_type": "code",
   "execution_count": 8,
   "metadata": {},
   "outputs": [],
   "source": [
    "data = []\n",
    "for i in data_words_unigrams:\n",
    "    tweet = ' '.join(i)\n",
    "    data.append(tweet)\n",
    "    \n",
    "def stemming(tweet, stem=True):\n",
    "    ps = PorterStemmer()\n",
    "\n",
    "    if stem==True:\n",
    "        tweet = ' '.join([ps.stem(word) for word in tweet.split()])\n",
    "    return tweet\n",
    "\n",
    "data_stemming = [stemming(tweet) for tweet in data]\n",
    "\n",
    "data_stemming1 = []\n",
    "for i in data_stemming:\n",
    "    alist = i.split()\n",
    "    data_stemming1.append(alist)\n",
    "    \n",
    "data_stemming = data_stemming1"
   ]
  },
  {
   "cell_type": "code",
   "execution_count": 9,
   "metadata": {},
   "outputs": [
    {
     "name": "stdout",
     "output_type": "stream",
     "text": [
      "141438\n",
      "10242\n",
      "1321\n",
      "12439\n"
     ]
    }
   ],
   "source": [
    "# Count unique words\n",
    "merged = list(itertools.chain.from_iterable(data_stemming))\n",
    "print(len(merged))\n",
    "print(len(set(merged)))\n",
    "\n",
    "# Identify words that appears at least 20 times\n",
    "c = Counter(merged)\n",
    "a = list(Counter({k: c for k, c in c.items() if c >= 20}).keys())\n",
    "\n",
    "# Select words that appears at least 20 times\n",
    "for i,value in enumerate(data_stemming):\n",
    "    data_stemming[i] = [i for i in value if i in a] \n",
    "    \n",
    "# Check\n",
    "merged = list(itertools.chain.from_iterable(data_stemming))\n",
    "print(len(set(merged)))\n",
    "\n",
    "# Get the index of the doc that are deleted\n",
    "empty_idx = []\n",
    "\n",
    "for i, value in enumerate(data_stemming):\n",
    "    if any(value) == False:\n",
    "        empty_idx.append(i)\n",
    "len(empty_idx)\n",
    "\n",
    "# Delete empty elements\n",
    "data_stemming2 = list(filter(None, data_stemming))\n",
    "print(len(data_stemming2))"
   ]
  },
  {
   "cell_type": "code",
   "execution_count": 10,
   "metadata": {},
   "outputs": [],
   "source": [
    "# Create Dictionary\n",
    "id2word = corpora.Dictionary(data_stemming2)\n",
    "\n",
    "# Create Corpus\n",
    "texts = data_stemming2\n",
    "\n",
    "# Term Document Frequency\n",
    "corpus = [id2word.doc2bow(text) for text in texts]"
   ]
  },
  {
   "cell_type": "code",
   "execution_count": 11,
   "metadata": {},
   "outputs": [
    {
     "name": "stdout",
     "output_type": "stream",
     "text": [
      "(12439, 1321)\n",
      "[[1. 1. 1. ... 0. 0. 0.]\n",
      " [1. 0. 0. ... 0. 0. 0.]\n",
      " [1. 0. 0. ... 0. 0. 0.]\n",
      " ...\n",
      " [0. 0. 0. ... 0. 0. 0.]\n",
      " [0. 0. 0. ... 0. 0. 0.]\n",
      " [0. 0. 0. ... 0. 0. 0.]]\n"
     ]
    }
   ],
   "source": [
    "a_s = gensim.matutils.corpus2dense(corpus, num_terms = 1321)\n",
    "\n",
    "# Create Doc-word matrix\n",
    "b_s = a_s.T.astype(np.float64)\n",
    "print(b_s.shape)\n",
    "print(b_s)"
   ]
  },
  {
   "cell_type": "code",
   "execution_count": 12,
   "metadata": {},
   "outputs": [],
   "source": [
    "# Extract Document index\n",
    "selected_idex = [x for x in list(df.index) if x not in empty_idx]\n",
    "\n",
    "# Obtain remaining terms\n",
    "words = [] \n",
    "for i,j in enumerate(id2word):\n",
    "    a = id2word[i]\n",
    "    words.append(a)\n",
    "\n",
    "# Create a dataframe\n",
    "b_ss = pd.DataFrame(b_s, columns=words, index=selected_idex)"
   ]
  },
  {
   "cell_type": "code",
   "execution_count": 148,
   "metadata": {},
   "outputs": [],
   "source": [
    "#np.savetxt('doc_word_matrix_stemmingf.csv', b_ss, delimiter=',')\n",
    "#b_ss.to_csv(\"doc_word_matrix_stemmingf.csv\")"
   ]
  },
  {
   "cell_type": "markdown",
   "metadata": {},
   "source": [
    "# If Lemmatization"
   ]
  },
  {
   "cell_type": "code",
   "execution_count": 14,
   "metadata": {},
   "outputs": [],
   "source": [
    "# Define functions for lemmatization\n",
    "def lemmatization(texts):\n",
    "    \"\"\"https://spacy.io/api/annotation\"\"\"\n",
    "    texts_out = []\n",
    "    for sent in texts:\n",
    "        doc = nlp(\" \".join(sent)) \n",
    "        texts_out.append([token.lemma_ for token in doc])\n",
    "    return texts_out\n",
    "\n",
    "nlp = spacy.load('en_core_web_sm')\n",
    "\n",
    "# Do lemmatization \n",
    "data_lemmatized = lemmatization(data_words_unigrams) "
   ]
  },
  {
   "cell_type": "code",
   "execution_count": 15,
   "metadata": {},
   "outputs": [
    {
     "name": "stdout",
     "output_type": "stream",
     "text": [
      "141670\n",
      "11762\n",
      "1289\n",
      "12423\n"
     ]
    }
   ],
   "source": [
    "# Count unique words\n",
    "merged = list(itertools.chain.from_iterable(data_lemmatized))\n",
    "print(len(merged))\n",
    "print(len(set(merged)))\n",
    "\n",
    "# Identify words that appears at least 20 times\n",
    "c = Counter(merged)\n",
    "a = list(Counter({k: c for k, c in c.items() if c >= 20}).keys())\n",
    "\n",
    "# Select words that appears at least 20 times\n",
    "for i,value in enumerate(data_lemmatized):\n",
    "    data_lemmatized[i] = [i for i in value if i in a] \n",
    "    \n",
    "# Check\n",
    "merged = list(itertools.chain.from_iterable(data_lemmatized))\n",
    "print(len(set(merged)))\n",
    "\n",
    "# Get the index of the doc that are deleted\n",
    "empty_idx = []\n",
    "\n",
    "for i, value in enumerate(data_lemmatized):\n",
    "    if any(value) == False:\n",
    "        empty_idx.append(i)\n",
    "len(empty_idx)\n",
    "\n",
    "# Delete empty elements\n",
    "data_lemmatized2 = list(filter(None, data_lemmatized))\n",
    "print(len(data_lemmatized2))"
   ]
  },
  {
   "cell_type": "code",
   "execution_count": 21,
   "metadata": {},
   "outputs": [],
   "source": [
    "# Create Dictionary\n",
    "id2word = corpora.Dictionary(data_lemmatized2)\n",
    "\n",
    "# Create Corpus\n",
    "texts = data_lemmatized2\n",
    "\n",
    "# Term Document Frequency\n",
    "corpus = [id2word.doc2bow(text) for text in texts]"
   ]
  },
  {
   "cell_type": "code",
   "execution_count": 22,
   "metadata": {},
   "outputs": [
    {
     "name": "stdout",
     "output_type": "stream",
     "text": [
      "(12423, 1289)\n",
      "[[1. 1. 1. ... 0. 0. 0.]\n",
      " [1. 0. 0. ... 0. 0. 0.]\n",
      " [1. 0. 0. ... 0. 0. 0.]\n",
      " ...\n",
      " [0. 0. 0. ... 0. 0. 0.]\n",
      " [0. 0. 0. ... 0. 0. 0.]\n",
      " [0. 0. 0. ... 0. 0. 0.]]\n"
     ]
    }
   ],
   "source": [
    "a_l = gensim.matutils.corpus2dense(corpus, num_terms = 1289)\n",
    "b_l = a_l.T\n",
    "\n",
    "# Create Doc-word matrix\n",
    "b_l = a_l.T.astype(np.float64)\n",
    "print(b_l.shape)\n",
    "print(b_l)"
   ]
  },
  {
   "cell_type": "code",
   "execution_count": 23,
   "metadata": {},
   "outputs": [],
   "source": [
    "# Extract Document index\n",
    "selected_idex_l = [x for x in list(df.index) if x not in empty_idx]\n",
    "\n",
    "# Obtain remaining terms\n",
    "words_l = [] \n",
    "for i,j in enumerate(id2word):\n",
    "    a = id2word[i]\n",
    "    words_l.append(a)\n",
    "\n",
    "# Create a dataframe\n",
    "b_ll = pd.DataFrame(b_l, columns=words_l, index=selected_idex_l)"
   ]
  },
  {
   "cell_type": "code",
   "execution_count": 151,
   "metadata": {},
   "outputs": [],
   "source": [
    "#np.savetxt('doc_word_matrix_lemmatizedf.csv', b_ll, delimiter=',')\n",
    "#b_ll.to_csv(\"doc_word_matrix_lemmatizedf.csv\")"
   ]
  }
 ],
 "metadata": {
  "kernelspec": {
   "display_name": "Python 3",
   "language": "python",
   "name": "python3"
  },
  "language_info": {
   "codemirror_mode": {
    "name": "ipython",
    "version": 3
   },
   "file_extension": ".py",
   "mimetype": "text/x-python",
   "name": "python",
   "nbconvert_exporter": "python",
   "pygments_lexer": "ipython3",
   "version": "3.7.4"
  }
 },
 "nbformat": 4,
 "nbformat_minor": 2
}
